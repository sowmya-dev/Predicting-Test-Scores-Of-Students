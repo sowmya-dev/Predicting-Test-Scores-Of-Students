{
  "nbformat": 4,
  "nbformat_minor": 0,
  "metadata": {
    "colab": {
      "name": "Data Mining.ipynb",
      "provenance": [],
      "collapsed_sections": []
    },
    "kernelspec": {
      "name": "python3",
      "display_name": "Python 3"
    },
    "language_info": {
      "name": "python"
    }
  },
  "cells": [
    {
      "cell_type": "markdown",
      "metadata": {
        "id": "mVZJTsIH5dVN"
      },
      "source": [
        "# Data Mining\n",
        "### Topic - Aggregation\n",
        "Dataset used:- Predict Test Scores of Students (https://www.kaggle.com/kwadwoofosu/predict-test-scores-of-students)\n",
        "\n"
      ]
    },
    {
      "cell_type": "markdown",
      "metadata": {
        "id": "dlGi2zsqwTXw"
      },
      "source": [
        "Link to project report:- https://docs.google.com/document/d/1JY18T2ELKLMgvaaPqWLdMwQJHe4kudvDq-HUjUL3asA/edit#heading=h.qd67i7g3zjnl"
      ]
    },
    {
      "cell_type": "markdown",
      "metadata": {
        "id": "IM13mKFT81BJ"
      },
      "source": [
        "We have explored the data by preprocessing using aggregation and visualised in the form of charts and plots. We have further created a linear regression model that is capable of predicting the post-test scores of students if pre-test scores are known."
      ]
    },
    {
      "cell_type": "code",
      "metadata": {
        "id": "Y_95pMnT-jv0"
      },
      "source": [
        "#importing necessary libraries for preprocessing\n",
        "import pandas as pd\n",
        "import numpy as np\n",
        "import matplotlib.pyplot as plt\n",
        "import seaborn as sns"
      ],
      "execution_count": null,
      "outputs": []
    },
    {
      "cell_type": "code",
      "metadata": {
        "id": "WOTcC8HJ-u18"
      },
      "source": [
        "df=pd.read_csv('/content/test_scores.csv')"
      ],
      "execution_count": null,
      "outputs": []
    },
    {
      "cell_type": "markdown",
      "metadata": {
        "id": "t4QTrQ2wAhza"
      },
      "source": [
        "# Pre-Processing"
      ]
    },
    {
      "cell_type": "markdown",
      "metadata": {
        "id": "H8IQk70z-Ot0"
      },
      "source": [
        "We have imported the necessary libraries and read the used dataset using pandas. Dataframe is a data structure in pandas that stores the data in the form of rows and columns.\n",
        "\n",
        "*    df.head() gives us the first 5 rows of the dataframe.\n",
        "*   df.describe() gives the overview of the numerical columns of the dataset.\n",
        "*   df.isnull().sum() gives the number of null values in each column.\n",
        "*   df.dtypes gives the dataypes of each column. Object represents categorical data and float64 represents continuous data(floating point).\n",
        "\n",
        "\n",
        "\n"
      ]
    },
    {
      "cell_type": "code",
      "metadata": {
        "colab": {
          "base_uri": "https://localhost:8080/",
          "height": 484
        },
        "id": "OA8HF_8Ofq4O",
        "outputId": "65e95cb7-df0c-40c7-a836-77196f275a31"
      },
      "source": [
        "df"
      ],
      "execution_count": null,
      "outputs": [
        {
          "output_type": "execute_result",
          "data": {
            "text/html": [
              "<div>\n",
              "<style scoped>\n",
              "    .dataframe tbody tr th:only-of-type {\n",
              "        vertical-align: middle;\n",
              "    }\n",
              "\n",
              "    .dataframe tbody tr th {\n",
              "        vertical-align: top;\n",
              "    }\n",
              "\n",
              "    .dataframe thead th {\n",
              "        text-align: right;\n",
              "    }\n",
              "</style>\n",
              "<table border=\"1\" class=\"dataframe\">\n",
              "  <thead>\n",
              "    <tr style=\"text-align: right;\">\n",
              "      <th></th>\n",
              "      <th>school</th>\n",
              "      <th>school_setting</th>\n",
              "      <th>school_type</th>\n",
              "      <th>classroom</th>\n",
              "      <th>teaching_method</th>\n",
              "      <th>n_student</th>\n",
              "      <th>student_id</th>\n",
              "      <th>gender</th>\n",
              "      <th>lunch</th>\n",
              "      <th>pretest</th>\n",
              "      <th>posttest</th>\n",
              "    </tr>\n",
              "  </thead>\n",
              "  <tbody>\n",
              "    <tr>\n",
              "      <th>0</th>\n",
              "      <td>ANKYI</td>\n",
              "      <td>Urban</td>\n",
              "      <td>Non-public</td>\n",
              "      <td>6OL</td>\n",
              "      <td>Standard</td>\n",
              "      <td>20.0</td>\n",
              "      <td>2FHT3</td>\n",
              "      <td>Female</td>\n",
              "      <td>Does not qualify</td>\n",
              "      <td>62.0</td>\n",
              "      <td>72.0</td>\n",
              "    </tr>\n",
              "    <tr>\n",
              "      <th>1</th>\n",
              "      <td>ANKYI</td>\n",
              "      <td>Urban</td>\n",
              "      <td>Non-public</td>\n",
              "      <td>6OL</td>\n",
              "      <td>Standard</td>\n",
              "      <td>20.0</td>\n",
              "      <td>3JIVH</td>\n",
              "      <td>Female</td>\n",
              "      <td>Does not qualify</td>\n",
              "      <td>66.0</td>\n",
              "      <td>79.0</td>\n",
              "    </tr>\n",
              "    <tr>\n",
              "      <th>2</th>\n",
              "      <td>ANKYI</td>\n",
              "      <td>Urban</td>\n",
              "      <td>Non-public</td>\n",
              "      <td>6OL</td>\n",
              "      <td>Standard</td>\n",
              "      <td>20.0</td>\n",
              "      <td>3XOWE</td>\n",
              "      <td>Male</td>\n",
              "      <td>Does not qualify</td>\n",
              "      <td>64.0</td>\n",
              "      <td>76.0</td>\n",
              "    </tr>\n",
              "    <tr>\n",
              "      <th>3</th>\n",
              "      <td>ANKYI</td>\n",
              "      <td>Urban</td>\n",
              "      <td>Non-public</td>\n",
              "      <td>6OL</td>\n",
              "      <td>Standard</td>\n",
              "      <td>20.0</td>\n",
              "      <td>556O0</td>\n",
              "      <td>Female</td>\n",
              "      <td>Does not qualify</td>\n",
              "      <td>61.0</td>\n",
              "      <td>77.0</td>\n",
              "    </tr>\n",
              "    <tr>\n",
              "      <th>4</th>\n",
              "      <td>ANKYI</td>\n",
              "      <td>Urban</td>\n",
              "      <td>Non-public</td>\n",
              "      <td>6OL</td>\n",
              "      <td>Standard</td>\n",
              "      <td>20.0</td>\n",
              "      <td>74LOE</td>\n",
              "      <td>Male</td>\n",
              "      <td>Does not qualify</td>\n",
              "      <td>64.0</td>\n",
              "      <td>76.0</td>\n",
              "    </tr>\n",
              "    <tr>\n",
              "      <th>...</th>\n",
              "      <td>...</td>\n",
              "      <td>...</td>\n",
              "      <td>...</td>\n",
              "      <td>...</td>\n",
              "      <td>...</td>\n",
              "      <td>...</td>\n",
              "      <td>...</td>\n",
              "      <td>...</td>\n",
              "      <td>...</td>\n",
              "      <td>...</td>\n",
              "      <td>...</td>\n",
              "    </tr>\n",
              "    <tr>\n",
              "      <th>2128</th>\n",
              "      <td>ZOWMK</td>\n",
              "      <td>Urban</td>\n",
              "      <td>Public</td>\n",
              "      <td>ZBH</td>\n",
              "      <td>Standard</td>\n",
              "      <td>30.0</td>\n",
              "      <td>T8LSK</td>\n",
              "      <td>Female</td>\n",
              "      <td>Does not qualify</td>\n",
              "      <td>39.0</td>\n",
              "      <td>55.0</td>\n",
              "    </tr>\n",
              "    <tr>\n",
              "      <th>2129</th>\n",
              "      <td>ZOWMK</td>\n",
              "      <td>Urban</td>\n",
              "      <td>Public</td>\n",
              "      <td>ZBH</td>\n",
              "      <td>Standard</td>\n",
              "      <td>30.0</td>\n",
              "      <td>VNP26</td>\n",
              "      <td>Female</td>\n",
              "      <td>Qualifies for reduced/free lunch</td>\n",
              "      <td>38.0</td>\n",
              "      <td>46.0</td>\n",
              "    </tr>\n",
              "    <tr>\n",
              "      <th>2130</th>\n",
              "      <td>ZOWMK</td>\n",
              "      <td>Urban</td>\n",
              "      <td>Public</td>\n",
              "      <td>ZBH</td>\n",
              "      <td>Standard</td>\n",
              "      <td>30.0</td>\n",
              "      <td>YDR1Z</td>\n",
              "      <td>Female</td>\n",
              "      <td>Qualifies for reduced/free lunch</td>\n",
              "      <td>45.0</td>\n",
              "      <td>51.0</td>\n",
              "    </tr>\n",
              "    <tr>\n",
              "      <th>2131</th>\n",
              "      <td>ZOWMK</td>\n",
              "      <td>Urban</td>\n",
              "      <td>Public</td>\n",
              "      <td>ZBH</td>\n",
              "      <td>Standard</td>\n",
              "      <td>30.0</td>\n",
              "      <td>YUEIH</td>\n",
              "      <td>Male</td>\n",
              "      <td>Qualifies for reduced/free lunch</td>\n",
              "      <td>46.0</td>\n",
              "      <td>53.0</td>\n",
              "    </tr>\n",
              "    <tr>\n",
              "      <th>2132</th>\n",
              "      <td>ZOWMK</td>\n",
              "      <td>Urban</td>\n",
              "      <td>Public</td>\n",
              "      <td>ZBH</td>\n",
              "      <td>Standard</td>\n",
              "      <td>30.0</td>\n",
              "      <td>ZVCQ8</td>\n",
              "      <td>Male</td>\n",
              "      <td>Qualifies for reduced/free lunch</td>\n",
              "      <td>41.0</td>\n",
              "      <td>48.0</td>\n",
              "    </tr>\n",
              "  </tbody>\n",
              "</table>\n",
              "<p>2133 rows × 11 columns</p>\n",
              "</div>"
            ],
            "text/plain": [
              "     school school_setting  ... pretest posttest\n",
              "0     ANKYI          Urban  ...    62.0     72.0\n",
              "1     ANKYI          Urban  ...    66.0     79.0\n",
              "2     ANKYI          Urban  ...    64.0     76.0\n",
              "3     ANKYI          Urban  ...    61.0     77.0\n",
              "4     ANKYI          Urban  ...    64.0     76.0\n",
              "...     ...            ...  ...     ...      ...\n",
              "2128  ZOWMK          Urban  ...    39.0     55.0\n",
              "2129  ZOWMK          Urban  ...    38.0     46.0\n",
              "2130  ZOWMK          Urban  ...    45.0     51.0\n",
              "2131  ZOWMK          Urban  ...    46.0     53.0\n",
              "2132  ZOWMK          Urban  ...    41.0     48.0\n",
              "\n",
              "[2133 rows x 11 columns]"
            ]
          },
          "metadata": {
            "tags": []
          },
          "execution_count": 54
        }
      ]
    },
    {
      "cell_type": "code",
      "metadata": {
        "colab": {
          "base_uri": "https://localhost:8080/",
          "height": 203
        },
        "id": "R0ivgTvx-9Y0",
        "outputId": "c3bcdf39-e1aa-4039-ceb7-d8a6b8b62f7e"
      },
      "source": [
        "df.head()"
      ],
      "execution_count": null,
      "outputs": [
        {
          "output_type": "execute_result",
          "data": {
            "text/html": [
              "<div>\n",
              "<style scoped>\n",
              "    .dataframe tbody tr th:only-of-type {\n",
              "        vertical-align: middle;\n",
              "    }\n",
              "\n",
              "    .dataframe tbody tr th {\n",
              "        vertical-align: top;\n",
              "    }\n",
              "\n",
              "    .dataframe thead th {\n",
              "        text-align: right;\n",
              "    }\n",
              "</style>\n",
              "<table border=\"1\" class=\"dataframe\">\n",
              "  <thead>\n",
              "    <tr style=\"text-align: right;\">\n",
              "      <th></th>\n",
              "      <th>school</th>\n",
              "      <th>school_setting</th>\n",
              "      <th>school_type</th>\n",
              "      <th>classroom</th>\n",
              "      <th>teaching_method</th>\n",
              "      <th>n_student</th>\n",
              "      <th>student_id</th>\n",
              "      <th>gender</th>\n",
              "      <th>lunch</th>\n",
              "      <th>pretest</th>\n",
              "      <th>posttest</th>\n",
              "    </tr>\n",
              "  </thead>\n",
              "  <tbody>\n",
              "    <tr>\n",
              "      <th>0</th>\n",
              "      <td>ANKYI</td>\n",
              "      <td>Urban</td>\n",
              "      <td>Non-public</td>\n",
              "      <td>6OL</td>\n",
              "      <td>Standard</td>\n",
              "      <td>20.0</td>\n",
              "      <td>2FHT3</td>\n",
              "      <td>Female</td>\n",
              "      <td>Does not qualify</td>\n",
              "      <td>62.0</td>\n",
              "      <td>72.0</td>\n",
              "    </tr>\n",
              "    <tr>\n",
              "      <th>1</th>\n",
              "      <td>ANKYI</td>\n",
              "      <td>Urban</td>\n",
              "      <td>Non-public</td>\n",
              "      <td>6OL</td>\n",
              "      <td>Standard</td>\n",
              "      <td>20.0</td>\n",
              "      <td>3JIVH</td>\n",
              "      <td>Female</td>\n",
              "      <td>Does not qualify</td>\n",
              "      <td>66.0</td>\n",
              "      <td>79.0</td>\n",
              "    </tr>\n",
              "    <tr>\n",
              "      <th>2</th>\n",
              "      <td>ANKYI</td>\n",
              "      <td>Urban</td>\n",
              "      <td>Non-public</td>\n",
              "      <td>6OL</td>\n",
              "      <td>Standard</td>\n",
              "      <td>20.0</td>\n",
              "      <td>3XOWE</td>\n",
              "      <td>Male</td>\n",
              "      <td>Does not qualify</td>\n",
              "      <td>64.0</td>\n",
              "      <td>76.0</td>\n",
              "    </tr>\n",
              "    <tr>\n",
              "      <th>3</th>\n",
              "      <td>ANKYI</td>\n",
              "      <td>Urban</td>\n",
              "      <td>Non-public</td>\n",
              "      <td>6OL</td>\n",
              "      <td>Standard</td>\n",
              "      <td>20.0</td>\n",
              "      <td>556O0</td>\n",
              "      <td>Female</td>\n",
              "      <td>Does not qualify</td>\n",
              "      <td>61.0</td>\n",
              "      <td>77.0</td>\n",
              "    </tr>\n",
              "    <tr>\n",
              "      <th>4</th>\n",
              "      <td>ANKYI</td>\n",
              "      <td>Urban</td>\n",
              "      <td>Non-public</td>\n",
              "      <td>6OL</td>\n",
              "      <td>Standard</td>\n",
              "      <td>20.0</td>\n",
              "      <td>74LOE</td>\n",
              "      <td>Male</td>\n",
              "      <td>Does not qualify</td>\n",
              "      <td>64.0</td>\n",
              "      <td>76.0</td>\n",
              "    </tr>\n",
              "  </tbody>\n",
              "</table>\n",
              "</div>"
            ],
            "text/plain": [
              "  school school_setting school_type  ...             lunch pretest  posttest\n",
              "0  ANKYI          Urban  Non-public  ...  Does not qualify    62.0      72.0\n",
              "1  ANKYI          Urban  Non-public  ...  Does not qualify    66.0      79.0\n",
              "2  ANKYI          Urban  Non-public  ...  Does not qualify    64.0      76.0\n",
              "3  ANKYI          Urban  Non-public  ...  Does not qualify    61.0      77.0\n",
              "4  ANKYI          Urban  Non-public  ...  Does not qualify    64.0      76.0\n",
              "\n",
              "[5 rows x 11 columns]"
            ]
          },
          "metadata": {
            "tags": []
          },
          "execution_count": 55
        }
      ]
    },
    {
      "cell_type": "code",
      "metadata": {
        "colab": {
          "base_uri": "https://localhost:8080/",
          "height": 295
        },
        "id": "leE-FcS__7cz",
        "outputId": "6b0fcaaf-4388-4fc7-9f76-5f02f95bd3c5"
      },
      "source": [
        "df.describe()"
      ],
      "execution_count": null,
      "outputs": [
        {
          "output_type": "execute_result",
          "data": {
            "text/html": [
              "<div>\n",
              "<style scoped>\n",
              "    .dataframe tbody tr th:only-of-type {\n",
              "        vertical-align: middle;\n",
              "    }\n",
              "\n",
              "    .dataframe tbody tr th {\n",
              "        vertical-align: top;\n",
              "    }\n",
              "\n",
              "    .dataframe thead th {\n",
              "        text-align: right;\n",
              "    }\n",
              "</style>\n",
              "<table border=\"1\" class=\"dataframe\">\n",
              "  <thead>\n",
              "    <tr style=\"text-align: right;\">\n",
              "      <th></th>\n",
              "      <th>n_student</th>\n",
              "      <th>pretest</th>\n",
              "      <th>posttest</th>\n",
              "    </tr>\n",
              "  </thead>\n",
              "  <tbody>\n",
              "    <tr>\n",
              "      <th>count</th>\n",
              "      <td>2133.000000</td>\n",
              "      <td>2133.000000</td>\n",
              "      <td>2133.000000</td>\n",
              "    </tr>\n",
              "    <tr>\n",
              "      <th>mean</th>\n",
              "      <td>22.796531</td>\n",
              "      <td>54.955931</td>\n",
              "      <td>67.102203</td>\n",
              "    </tr>\n",
              "    <tr>\n",
              "      <th>std</th>\n",
              "      <td>4.228893</td>\n",
              "      <td>13.563101</td>\n",
              "      <td>13.986789</td>\n",
              "    </tr>\n",
              "    <tr>\n",
              "      <th>min</th>\n",
              "      <td>14.000000</td>\n",
              "      <td>22.000000</td>\n",
              "      <td>32.000000</td>\n",
              "    </tr>\n",
              "    <tr>\n",
              "      <th>25%</th>\n",
              "      <td>20.000000</td>\n",
              "      <td>44.000000</td>\n",
              "      <td>56.000000</td>\n",
              "    </tr>\n",
              "    <tr>\n",
              "      <th>50%</th>\n",
              "      <td>22.000000</td>\n",
              "      <td>56.000000</td>\n",
              "      <td>68.000000</td>\n",
              "    </tr>\n",
              "    <tr>\n",
              "      <th>75%</th>\n",
              "      <td>27.000000</td>\n",
              "      <td>65.000000</td>\n",
              "      <td>77.000000</td>\n",
              "    </tr>\n",
              "    <tr>\n",
              "      <th>max</th>\n",
              "      <td>31.000000</td>\n",
              "      <td>93.000000</td>\n",
              "      <td>100.000000</td>\n",
              "    </tr>\n",
              "  </tbody>\n",
              "</table>\n",
              "</div>"
            ],
            "text/plain": [
              "         n_student      pretest     posttest\n",
              "count  2133.000000  2133.000000  2133.000000\n",
              "mean     22.796531    54.955931    67.102203\n",
              "std       4.228893    13.563101    13.986789\n",
              "min      14.000000    22.000000    32.000000\n",
              "25%      20.000000    44.000000    56.000000\n",
              "50%      22.000000    56.000000    68.000000\n",
              "75%      27.000000    65.000000    77.000000\n",
              "max      31.000000    93.000000   100.000000"
            ]
          },
          "metadata": {
            "tags": []
          },
          "execution_count": 56
        }
      ]
    },
    {
      "cell_type": "code",
      "metadata": {
        "colab": {
          "base_uri": "https://localhost:8080/"
        },
        "id": "8MknmGIHAKq8",
        "outputId": "54870732-86bf-46b8-86f3-d7dbf0d26709"
      },
      "source": [
        "df.isnull().sum()"
      ],
      "execution_count": null,
      "outputs": [
        {
          "output_type": "execute_result",
          "data": {
            "text/plain": [
              "school             0\n",
              "school_setting     0\n",
              "school_type        0\n",
              "classroom          0\n",
              "teaching_method    0\n",
              "n_student          0\n",
              "student_id         0\n",
              "gender             0\n",
              "lunch              0\n",
              "pretest            0\n",
              "posttest           0\n",
              "dtype: int64"
            ]
          },
          "metadata": {
            "tags": []
          },
          "execution_count": 57
        }
      ]
    },
    {
      "cell_type": "code",
      "metadata": {
        "colab": {
          "base_uri": "https://localhost:8080/"
        },
        "id": "vU7Id-pgAWCc",
        "outputId": "48fd4e48-5be0-4ea9-c674-39cdd508c64e"
      },
      "source": [
        "df.dtypes"
      ],
      "execution_count": null,
      "outputs": [
        {
          "output_type": "execute_result",
          "data": {
            "text/plain": [
              "school              object\n",
              "school_setting      object\n",
              "school_type         object\n",
              "classroom           object\n",
              "teaching_method     object\n",
              "n_student          float64\n",
              "student_id          object\n",
              "gender              object\n",
              "lunch               object\n",
              "pretest            float64\n",
              "posttest           float64\n",
              "dtype: object"
            ]
          },
          "metadata": {
            "tags": []
          },
          "execution_count": 59
        }
      ]
    },
    {
      "cell_type": "markdown",
      "metadata": {
        "id": "1cbohGnPqJzI"
      },
      "source": [
        "\n",
        "\n",
        "---\n",
        "\n",
        "\n",
        "\n",
        "\n",
        "\n"
      ]
    },
    {
      "cell_type": "markdown",
      "metadata": {
        "id": "CuxYXiuwZ-LY"
      },
      "source": [
        "\n",
        "\n",
        "\n",
        "### We will be performing operations on various columns.\n",
        "1. School - We have calculated the count of students studying in each school using groupby, average score of them in pretest for each school and also visualised the same.\n",
        "\n",
        "\n",
        "\n",
        "\n"
      ]
    },
    {
      "cell_type": "code",
      "metadata": {
        "colab": {
          "base_uri": "https://localhost:8080/"
        },
        "id": "uZKxrNBeAjFL",
        "outputId": "32d64cf8-06a0-4dcf-b1b1-b8f531146014"
      },
      "source": [
        "df.groupby(['school' ] ).count()['school_setting']"
      ],
      "execution_count": null,
      "outputs": [
        {
          "output_type": "execute_result",
          "data": {
            "text/plain": [
              "school\n",
              "ANKYI     41\n",
              "CCAAW    109\n",
              "CIMBB     74\n",
              "CUQAM    107\n",
              "DNQDD    122\n",
              "FBUMG     46\n",
              "GJJHK    118\n",
              "GOKXL     64\n",
              "GOOBU    158\n",
              "IDGFP     94\n",
              "KFZMY     52\n",
              "KZKKE    111\n",
              "LAYPA     57\n",
              "OJOBU     81\n",
              "QOQTS    149\n",
              "UAGPU     87\n",
              "UKPGS    128\n",
              "UUUQX     84\n",
              "VHDHF     51\n",
              "VKWQH    100\n",
              "VVTVA    114\n",
              "ZMNYA     69\n",
              "ZOWMK    117\n",
              "Name: school_setting, dtype: int64"
            ]
          },
          "metadata": {
            "tags": []
          },
          "execution_count": 60
        }
      ]
    },
    {
      "cell_type": "code",
      "metadata": {
        "id": "2N6jG26kFMFB"
      },
      "source": [
        "maximum = (df.groupby(['school' ] ).count()['school_setting']).max()\n",
        "minimum= (df.groupby(['school' ] ).count()['school_setting']).min()"
      ],
      "execution_count": null,
      "outputs": []
    },
    {
      "cell_type": "code",
      "metadata": {
        "colab": {
          "base_uri": "https://localhost:8080/"
        },
        "id": "VhkfzSRrOtpw",
        "outputId": "2c50b7a1-3d66-4647-b532-31f11ef73a3f"
      },
      "source": [
        "a=dict(df.groupby(['school' ] ).count()['school_setting'])\n",
        "a\n",
        "\n",
        "list(a.keys())\n",
        "for i in list(a.keys()):\n",
        "   if df.groupby(['school' ] ).count()['school_setting'][i]==maximum:\n",
        "      print(\"The maximum no of students are in \",i, \"school having :\",maximum,\"students\")\n",
        "      break\n",
        "for i in list(a.keys()):\n",
        "   if df.groupby(['school' ] ).count()['school_setting'][i]==minimum:\n",
        "      print(\"The minimum no of students are in \",i,\"school having :\",minimum,\"students\")\n",
        "      break"
      ],
      "execution_count": null,
      "outputs": [
        {
          "output_type": "stream",
          "text": [
            "The maximum no of students are in  GOOBU school having : 158 students\n",
            "The minimum no of students are in  ANKYI school having : 41 students\n"
          ],
          "name": "stdout"
        }
      ]
    },
    {
      "cell_type": "code",
      "metadata": {
        "id": "xY6IFO-xUQwA"
      },
      "source": [
        "z=dict(df.groupby(['school' ] ).count()['school_setting'])\n",
        "z1=list(z.keys())\n",
        "z2=list(z.values())"
      ],
      "execution_count": null,
      "outputs": []
    },
    {
      "cell_type": "code",
      "metadata": {
        "colab": {
          "base_uri": "https://localhost:8080/",
          "height": 297
        },
        "id": "JUPASNXsTtQl",
        "outputId": "016aece0-cef2-4250-c7fb-c6576d54ccec"
      },
      "source": [
        "plt.plot(z1, z2, marker='o')\n",
        "plt.xticks(rotation=\"vertical\")\n",
        "plt.xlabel(\"School Names\")\n",
        "plt.ylabel(\"No of Students\")\n",
        "plt.title(\"Student Statistics\")\n",
        "plt.tight_layout()"
      ],
      "execution_count": null,
      "outputs": [
        {
          "output_type": "display_data",
          "data": {
            "image/png": "[encoded data removed]",
            "text/plain": [
              "<Figure size 432x288 with 1 Axes>"
            ]
          },
          "metadata": {
            "tags": [],
            "needs_background": "light"
          }
        }
      ]
    },
    {
      "cell_type": "markdown",
      "metadata": {
        "id": "_zQjZkq-EFBg"
      },
      "source": [
        "The plot supports our inference of the schools having maximum and minimum count of students. It can be clearly seen that \"GOOBU\" has the greatest number of students, and \"ANKYI\" has the least number of students."
      ]
    },
    {
      "cell_type": "code",
      "metadata": {
        "colab": {
          "base_uri": "https://localhost:8080/"
        },
        "id": "8u1u07PRYz7A",
        "outputId": "bbe763d9-a1de-4721-bd0e-6f971fc8c255"
      },
      "source": [
        "df.groupby(['school' ] )['pretest'].mean()"
      ],
      "execution_count": null,
      "outputs": [
        {
          "output_type": "execute_result",
          "data": {
            "text/plain": [
              "school\n",
              "ANKYI    61.341463\n",
              "CCAAW    64.623853\n",
              "CIMBB    65.067568\n",
              "CUQAM    53.925234\n",
              "DNQDD    54.327869\n",
              "FBUMG    62.891304\n",
              "GJJHK    53.194915\n",
              "GOKXL    50.796875\n",
              "GOOBU    38.196203\n",
              "IDGFP    75.202128\n",
              "KFZMY    41.865385\n",
              "KZKKE    37.261261\n",
              "LAYPA    62.035088\n",
              "OJOBU    56.197531\n",
              "QOQTS    52.597315\n",
              "UAGPU    62.390805\n",
              "UKPGS    78.453125\n",
              "UUUQX    67.309524\n",
              "VHDHF    52.666667\n",
              "VKWQH    52.060000\n",
              "VVTVA    36.008772\n",
              "ZMNYA    68.130435\n",
              "ZOWMK    41.572650\n",
              "Name: pretest, dtype: float64"
            ]
          },
          "metadata": {
            "tags": []
          },
          "execution_count": 63
        }
      ]
    },
    {
      "cell_type": "code",
      "metadata": {
        "id": "mK3cCS-bZfLM"
      },
      "source": [
        "w=dict(df.groupby(['school' ] )['pretest'].mean())\n",
        "w1=list(w.keys())\n",
        "w2=list(w.values())"
      ],
      "execution_count": null,
      "outputs": []
    },
    {
      "cell_type": "code",
      "metadata": {
        "colab": {
          "base_uri": "https://localhost:8080/",
          "height": 297
        },
        "id": "aKES3q2nZbhv",
        "outputId": "ac52c046-1f4e-4521-bf87-9228d15f00ef"
      },
      "source": [
        "plt.plot(w1, w2, marker='o')\n",
        "plt.xticks(rotation=\"vertical\")\n",
        "plt.xlabel(\"School Names\")\n",
        "plt.ylabel(\"Avg Score in each school\")\n",
        "plt.title(\"Student Statistics\")\n",
        "plt.tight_layout( )"
      ],
      "execution_count": null,
      "outputs": [
        {
          "output_type": "display_data",
          "data": {
            "image/png": "[encoded data removed]",
            "text/plain": [
              "<Figure size 432x288 with 1 Axes>"
            ]
          },
          "metadata": {
            "tags": [],
            "needs_background": "light"
          }
        }
      ]
    },
    {
      "cell_type": "markdown",
      "metadata": {
        "id": "yOzKAuppFB2b"
      },
      "source": [
        "The graph shows average scores of students in each school. We can infer that the average score of students in pretest is maximum in \"UKPGS\" and minimum in \"WTVA\"."
      ]
    },
    {
      "cell_type": "markdown",
      "metadata": {
        "id": "oCqILzl1aD5O"
      },
      "source": [
        "2. **School Setting** - We have calculated the count of students studying in different school settings using groupby, average score of them in pretest for each school and also visualised the same.\n",
        "\n"
      ]
    },
    {
      "cell_type": "code",
      "metadata": {
        "id": "OiK8QFAQDxt1",
        "colab": {
          "base_uri": "https://localhost:8080/",
          "height": 203
        },
        "outputId": "f779af6a-8bba-446c-bc89-e1aa5dacd8de"
      },
      "source": [
        "df.head()"
      ],
      "execution_count": null,
      "outputs": [
        {
          "output_type": "execute_result",
          "data": {
            "text/html": [
              "<div>\n",
              "<style scoped>\n",
              "    .dataframe tbody tr th:only-of-type {\n",
              "        vertical-align: middle;\n",
              "    }\n",
              "\n",
              "    .dataframe tbody tr th {\n",
              "        vertical-align: top;\n",
              "    }\n",
              "\n",
              "    .dataframe thead th {\n",
              "        text-align: right;\n",
              "    }\n",
              "</style>\n",
              "<table border=\"1\" class=\"dataframe\">\n",
              "  <thead>\n",
              "    <tr style=\"text-align: right;\">\n",
              "      <th></th>\n",
              "      <th>school</th>\n",
              "      <th>school_setting</th>\n",
              "      <th>school_type</th>\n",
              "      <th>classroom</th>\n",
              "      <th>teaching_method</th>\n",
              "      <th>n_student</th>\n",
              "      <th>student_id</th>\n",
              "      <th>gender</th>\n",
              "      <th>lunch</th>\n",
              "      <th>pretest</th>\n",
              "      <th>posttest</th>\n",
              "    </tr>\n",
              "  </thead>\n",
              "  <tbody>\n",
              "    <tr>\n",
              "      <th>0</th>\n",
              "      <td>ANKYI</td>\n",
              "      <td>Urban</td>\n",
              "      <td>Non-public</td>\n",
              "      <td>6OL</td>\n",
              "      <td>Standard</td>\n",
              "      <td>20.0</td>\n",
              "      <td>2FHT3</td>\n",
              "      <td>Female</td>\n",
              "      <td>Does not qualify</td>\n",
              "      <td>62.0</td>\n",
              "      <td>72.0</td>\n",
              "    </tr>\n",
              "    <tr>\n",
              "      <th>1</th>\n",
              "      <td>ANKYI</td>\n",
              "      <td>Urban</td>\n",
              "      <td>Non-public</td>\n",
              "      <td>6OL</td>\n",
              "      <td>Standard</td>\n",
              "      <td>20.0</td>\n",
              "      <td>3JIVH</td>\n",
              "      <td>Female</td>\n",
              "      <td>Does not qualify</td>\n",
              "      <td>66.0</td>\n",
              "      <td>79.0</td>\n",
              "    </tr>\n",
              "    <tr>\n",
              "      <th>2</th>\n",
              "      <td>ANKYI</td>\n",
              "      <td>Urban</td>\n",
              "      <td>Non-public</td>\n",
              "      <td>6OL</td>\n",
              "      <td>Standard</td>\n",
              "      <td>20.0</td>\n",
              "      <td>3XOWE</td>\n",
              "      <td>Male</td>\n",
              "      <td>Does not qualify</td>\n",
              "      <td>64.0</td>\n",
              "      <td>76.0</td>\n",
              "    </tr>\n",
              "    <tr>\n",
              "      <th>3</th>\n",
              "      <td>ANKYI</td>\n",
              "      <td>Urban</td>\n",
              "      <td>Non-public</td>\n",
              "      <td>6OL</td>\n",
              "      <td>Standard</td>\n",
              "      <td>20.0</td>\n",
              "      <td>556O0</td>\n",
              "      <td>Female</td>\n",
              "      <td>Does not qualify</td>\n",
              "      <td>61.0</td>\n",
              "      <td>77.0</td>\n",
              "    </tr>\n",
              "    <tr>\n",
              "      <th>4</th>\n",
              "      <td>ANKYI</td>\n",
              "      <td>Urban</td>\n",
              "      <td>Non-public</td>\n",
              "      <td>6OL</td>\n",
              "      <td>Standard</td>\n",
              "      <td>20.0</td>\n",
              "      <td>74LOE</td>\n",
              "      <td>Male</td>\n",
              "      <td>Does not qualify</td>\n",
              "      <td>64.0</td>\n",
              "      <td>76.0</td>\n",
              "    </tr>\n",
              "  </tbody>\n",
              "</table>\n",
              "</div>"
            ],
            "text/plain": [
              "  school school_setting school_type  ...             lunch pretest  posttest\n",
              "0  ANKYI          Urban  Non-public  ...  Does not qualify    62.0      72.0\n",
              "1  ANKYI          Urban  Non-public  ...  Does not qualify    66.0      79.0\n",
              "2  ANKYI          Urban  Non-public  ...  Does not qualify    64.0      76.0\n",
              "3  ANKYI          Urban  Non-public  ...  Does not qualify    61.0      77.0\n",
              "4  ANKYI          Urban  Non-public  ...  Does not qualify    64.0      76.0\n",
              "\n",
              "[5 rows x 11 columns]"
            ]
          },
          "metadata": {
            "tags": []
          },
          "execution_count": 64
        }
      ]
    },
    {
      "cell_type": "code",
      "metadata": {
        "colab": {
          "base_uri": "https://localhost:8080/",
          "height": 172
        },
        "id": "BTMuod2wEgx7",
        "outputId": "601ab27e-6fbc-4019-d024-f038406bc04a"
      },
      "source": [
        "df.groupby(['school_setting' ] ).count()"
      ],
      "execution_count": null,
      "outputs": [
        {
          "output_type": "execute_result",
          "data": {
            "text/html": [
              "<div>\n",
              "<style scoped>\n",
              "    .dataframe tbody tr th:only-of-type {\n",
              "        vertical-align: middle;\n",
              "    }\n",
              "\n",
              "    .dataframe tbody tr th {\n",
              "        vertical-align: top;\n",
              "    }\n",
              "\n",
              "    .dataframe thead th {\n",
              "        text-align: right;\n",
              "    }\n",
              "</style>\n",
              "<table border=\"1\" class=\"dataframe\">\n",
              "  <thead>\n",
              "    <tr style=\"text-align: right;\">\n",
              "      <th></th>\n",
              "      <th>school</th>\n",
              "      <th>school_type</th>\n",
              "      <th>classroom</th>\n",
              "      <th>teaching_method</th>\n",
              "      <th>n_student</th>\n",
              "      <th>student_id</th>\n",
              "      <th>gender</th>\n",
              "      <th>lunch</th>\n",
              "      <th>pretest</th>\n",
              "      <th>posttest</th>\n",
              "    </tr>\n",
              "    <tr>\n",
              "      <th>school_setting</th>\n",
              "      <th></th>\n",
              "      <th></th>\n",
              "      <th></th>\n",
              "      <th></th>\n",
              "      <th></th>\n",
              "      <th></th>\n",
              "      <th></th>\n",
              "      <th></th>\n",
              "      <th></th>\n",
              "      <th></th>\n",
              "    </tr>\n",
              "  </thead>\n",
              "  <tbody>\n",
              "    <tr>\n",
              "      <th>Rural</th>\n",
              "      <td>510</td>\n",
              "      <td>510</td>\n",
              "      <td>510</td>\n",
              "      <td>510</td>\n",
              "      <td>510</td>\n",
              "      <td>510</td>\n",
              "      <td>510</td>\n",
              "      <td>510</td>\n",
              "      <td>510</td>\n",
              "      <td>510</td>\n",
              "    </tr>\n",
              "    <tr>\n",
              "      <th>Suburban</th>\n",
              "      <td>717</td>\n",
              "      <td>717</td>\n",
              "      <td>717</td>\n",
              "      <td>717</td>\n",
              "      <td>717</td>\n",
              "      <td>717</td>\n",
              "      <td>717</td>\n",
              "      <td>717</td>\n",
              "      <td>717</td>\n",
              "      <td>717</td>\n",
              "    </tr>\n",
              "    <tr>\n",
              "      <th>Urban</th>\n",
              "      <td>906</td>\n",
              "      <td>906</td>\n",
              "      <td>906</td>\n",
              "      <td>906</td>\n",
              "      <td>906</td>\n",
              "      <td>906</td>\n",
              "      <td>906</td>\n",
              "      <td>906</td>\n",
              "      <td>906</td>\n",
              "      <td>906</td>\n",
              "    </tr>\n",
              "  </tbody>\n",
              "</table>\n",
              "</div>"
            ],
            "text/plain": [
              "                school  school_type  classroom  ...  lunch  pretest  posttest\n",
              "school_setting                                  ...                          \n",
              "Rural              510          510        510  ...    510      510       510\n",
              "Suburban           717          717        717  ...    717      717       717\n",
              "Urban              906          906        906  ...    906      906       906\n",
              "\n",
              "[3 rows x 10 columns]"
            ]
          },
          "metadata": {
            "tags": []
          },
          "execution_count": 65
        }
      ]
    },
    {
      "cell_type": "code",
      "metadata": {
        "colab": {
          "base_uri": "https://localhost:8080/"
        },
        "id": "pB149IC_Eqim",
        "outputId": "b558dbb6-214d-433a-c9e9-9eb801fcedc5"
      },
      "source": [
        "print(\"The no of students studying in different locations are: \")\n",
        "df.groupby(['school_setting' ] ).count()['school']"
      ],
      "execution_count": null,
      "outputs": [
        {
          "output_type": "stream",
          "text": [
            "The no of students studying in different locations are: \n"
          ],
          "name": "stdout"
        },
        {
          "output_type": "execute_result",
          "data": {
            "text/plain": [
              "school_setting\n",
              "Rural       510\n",
              "Suburban    717\n",
              "Urban       906\n",
              "Name: school, dtype: int64"
            ]
          },
          "metadata": {
            "tags": []
          },
          "execution_count": 66
        }
      ]
    },
    {
      "cell_type": "code",
      "metadata": {
        "id": "Sw12XSW4W66w"
      },
      "source": [
        "x1=list(dict(df.groupby(['school_setting' ] ).count()['school']).keys())\n",
        "y1=list(dict(df.groupby(['school_setting' ] ).count()['school']).values())"
      ],
      "execution_count": null,
      "outputs": []
    },
    {
      "cell_type": "code",
      "metadata": {
        "colab": {
          "base_uri": "https://localhost:8080/",
          "height": 297
        },
        "id": "5JrnILaoYNvs",
        "outputId": "5ac127b3-dbd3-4b73-8eea-d9c8092abdbe"
      },
      "source": [
        "plt.pie(y1,labels=x1,startangle=90, shadow=False, wedgeprops={\"edgecolor\":\"1\",'linewidth': 3, 'antialiased': True},autopct='%1.2f%%')\n",
        "plt.title(\"School Location Vs Number Of Students\")\n",
        "plt.axis('equal')\n",
        "plt.tight_layout()\n",
        "plt.show() "
      ],
      "execution_count": null,
      "outputs": [
        {
          "output_type": "display_data",
          "data": {
            "image/png": "[encoded data removed]",
            "text/plain": [
              "<Figure size 432x288 with 1 Axes>"
            ]
          },
          "metadata": {
            "tags": []
          }
        }
      ]
    },
    {
      "cell_type": "markdown",
      "metadata": {
        "id": "F2HM5jTLG2cv"
      },
      "source": [
        "We can infer that the largest section of students (42.8%) study in schools in urban areas."
      ]
    },
    {
      "cell_type": "code",
      "metadata": {
        "colab": {
          "base_uri": "https://localhost:8080/"
        },
        "id": "d4ysTWquXOWP",
        "outputId": "1829ccb8-7205-465e-d307-a74d2c897bac"
      },
      "source": [
        "#relation b/w  school  and the pretest score\n",
        "print(\"The average scores of different students in different locations are :\")\n",
        "df.groupby(['school_setting' ] )['pretest'].mean()"
      ],
      "execution_count": null,
      "outputs": [
        {
          "output_type": "stream",
          "text": [
            "The average scores of different students in different locations are :\n"
          ],
          "name": "stdout"
        },
        {
          "output_type": "execute_result",
          "data": {
            "text/plain": [
              "school_setting\n",
              "Rural       51.490196\n",
              "Suburban    63.841004\n",
              "Urban       49.875276\n",
              "Name: pretest, dtype: float64"
            ]
          },
          "metadata": {
            "tags": []
          },
          "execution_count": 21
        }
      ]
    },
    {
      "cell_type": "code",
      "metadata": {
        "id": "vN6p3uJybFrj"
      },
      "source": [
        "g=list(dict(df.groupby(['school_setting' ] )['pretest'].mean()).keys())\n",
        "g1=list(dict(df.groupby(['school_setting' ] )['pretest'].mean()).values())"
      ],
      "execution_count": null,
      "outputs": []
    },
    {
      "cell_type": "code",
      "metadata": {
        "colab": {
          "base_uri": "https://localhost:8080/",
          "height": 297
        },
        "id": "xWliwTqXWtYo",
        "outputId": "3db1bdc3-cca1-4a7a-e490-ce45487035d9"
      },
      "source": [
        "plt.bar(g, g1, color='b',width=0.5)\n",
        "plt.plot()\n",
        "plt.xlabel(\"School Setting\")\n",
        "plt.ylabel(\"Avg Score Of Students\")\n",
        "plt.title(\"School Location Vs Avg Score Of Students \")\n",
        "plt.tight_layout()\n",
        "plt.show()"
      ],
      "execution_count": null,
      "outputs": [
        {
          "output_type": "display_data",
          "data": {
            "image/png": "[encoded data removed]",
            "text/plain": [
              "<Figure size 432x288 with 1 Axes>"
            ]
          },
          "metadata": {
            "tags": [],
            "needs_background": "light"
          }
        }
      ]
    },
    {
      "cell_type": "markdown",
      "metadata": {
        "id": "hPKOfzWEHQcv"
      },
      "source": [
        "The chart represents that students studying in sub-urban areas are scoring the best, though maximum number of students study in Urban areas."
      ]
    },
    {
      "cell_type": "markdown",
      "metadata": {
        "id": "f1CVbvGacj9h"
      },
      "source": [
        "3. **School Type** - We have calculated the count of students studying in different school types using groupby, average score of them in pretest for each school and also visualised the same."
      ]
    },
    {
      "cell_type": "code",
      "metadata": {
        "colab": {
          "base_uri": "https://localhost:8080/"
        },
        "id": "2IzA3W_-Ew-Q",
        "outputId": "1dbd5c83-a3b3-419d-c9df-d4ae9ef5af0a"
      },
      "source": [
        "#relation b/w  school types and the pretest score\n",
        "df.groupby(['school_type' ] ).count()['school']"
      ],
      "execution_count": null,
      "outputs": [
        {
          "output_type": "execute_result",
          "data": {
            "text/plain": [
              "school_type\n",
              "Non-public     551\n",
              "Public        1582\n",
              "Name: school, dtype: int64"
            ]
          },
          "metadata": {
            "tags": []
          },
          "execution_count": 24
        }
      ]
    },
    {
      "cell_type": "code",
      "metadata": {
        "colab": {
          "base_uri": "https://localhost:8080/"
        },
        "id": "DhbLVPFUWXFF",
        "outputId": "fa638329-8809-4504-cbff-51de3ca0b33b"
      },
      "source": [
        "print(\"The average scores of students in public and non-public schools are:\")\n",
        "df.groupby(['school_type' ] )['pretest'].mean()"
      ],
      "execution_count": null,
      "outputs": [
        {
          "output_type": "stream",
          "text": [
            "The average scores of students in public and non-public schools are:\n"
          ],
          "name": "stdout"
        },
        {
          "output_type": "execute_result",
          "data": {
            "text/plain": [
              "school_type\n",
              "Non-public    63.254083\n",
              "Public        52.065740\n",
              "Name: pretest, dtype: float64"
            ]
          },
          "metadata": {
            "tags": []
          },
          "execution_count": 25
        }
      ]
    },
    {
      "cell_type": "code",
      "metadata": {
        "id": "kyYLjZSac3pu"
      },
      "source": [
        "z3=list(dict(df.groupby(['school_type' ] )['pretest'].mean()).keys())\n",
        "z4=list(dict(df.groupby(['school_type' ] )['pretest'].mean()).values())"
      ],
      "execution_count": null,
      "outputs": []
    },
    {
      "cell_type": "code",
      "metadata": {
        "colab": {
          "base_uri": "https://localhost:8080/",
          "height": 297
        },
        "id": "uUxdwkBfcwXf",
        "outputId": "dba1043c-beb5-47d1-b67e-3bc16e008f3b"
      },
      "source": [
        "plt.pie(z4,labels=z3,startangle=90, shadow=False, wedgeprops={\"edgecolor\":\"1\",'linewidth': 3, 'antialiased': True})\n",
        "plt.title(\"Avg Marks Of Students in Different School Types\")\n",
        "plt.axis('equal')\n",
        "plt.tight_layout()\n",
        "plt.show() "
      ],
      "execution_count": null,
      "outputs": [
        {
          "output_type": "display_data",
          "data": {
            "image/png": "[encoded data removed]",
            "text/plain": [
              "<Figure size 432x288 with 1 Axes>"
            ]
          },
          "metadata": {
            "tags": []
          }
        }
      ]
    },
    {
      "cell_type": "markdown",
      "metadata": {
        "id": "uTHT9wUVIJAM"
      },
      "source": [
        "On visualising the average scores of students studying in different types of schools, we can infer that students studying in Non-public sector score better in pretests than the ones in Public sectors."
      ]
    },
    {
      "cell_type": "markdown",
      "metadata": {
        "id": "Y0VeFMIYcqvM"
      },
      "source": [
        "4. **Teaching method** - We have calculated the count of students undergoing different teaching methods and analysed its impact on students' peformance."
      ]
    },
    {
      "cell_type": "code",
      "metadata": {
        "id": "dT1tIb84E7Bq",
        "colab": {
          "base_uri": "https://localhost:8080/",
          "height": 203
        },
        "outputId": "f6222898-edaf-4819-8da5-dcd1bea6bad2"
      },
      "source": [
        "df.head()"
      ],
      "execution_count": null,
      "outputs": [
        {
          "output_type": "execute_result",
          "data": {
            "text/html": [
              "<div>\n",
              "<style scoped>\n",
              "    .dataframe tbody tr th:only-of-type {\n",
              "        vertical-align: middle;\n",
              "    }\n",
              "\n",
              "    .dataframe tbody tr th {\n",
              "        vertical-align: top;\n",
              "    }\n",
              "\n",
              "    .dataframe thead th {\n",
              "        text-align: right;\n",
              "    }\n",
              "</style>\n",
              "<table border=\"1\" class=\"dataframe\">\n",
              "  <thead>\n",
              "    <tr style=\"text-align: right;\">\n",
              "      <th></th>\n",
              "      <th>school</th>\n",
              "      <th>school_setting</th>\n",
              "      <th>school_type</th>\n",
              "      <th>classroom</th>\n",
              "      <th>teaching_method</th>\n",
              "      <th>n_student</th>\n",
              "      <th>student_id</th>\n",
              "      <th>gender</th>\n",
              "      <th>lunch</th>\n",
              "      <th>pretest</th>\n",
              "      <th>posttest</th>\n",
              "    </tr>\n",
              "  </thead>\n",
              "  <tbody>\n",
              "    <tr>\n",
              "      <th>0</th>\n",
              "      <td>ANKYI</td>\n",
              "      <td>Urban</td>\n",
              "      <td>Non-public</td>\n",
              "      <td>6OL</td>\n",
              "      <td>Standard</td>\n",
              "      <td>20.0</td>\n",
              "      <td>2FHT3</td>\n",
              "      <td>Female</td>\n",
              "      <td>Does not qualify</td>\n",
              "      <td>62.0</td>\n",
              "      <td>72.0</td>\n",
              "    </tr>\n",
              "    <tr>\n",
              "      <th>1</th>\n",
              "      <td>ANKYI</td>\n",
              "      <td>Urban</td>\n",
              "      <td>Non-public</td>\n",
              "      <td>6OL</td>\n",
              "      <td>Standard</td>\n",
              "      <td>20.0</td>\n",
              "      <td>3JIVH</td>\n",
              "      <td>Female</td>\n",
              "      <td>Does not qualify</td>\n",
              "      <td>66.0</td>\n",
              "      <td>79.0</td>\n",
              "    </tr>\n",
              "    <tr>\n",
              "      <th>2</th>\n",
              "      <td>ANKYI</td>\n",
              "      <td>Urban</td>\n",
              "      <td>Non-public</td>\n",
              "      <td>6OL</td>\n",
              "      <td>Standard</td>\n",
              "      <td>20.0</td>\n",
              "      <td>3XOWE</td>\n",
              "      <td>Male</td>\n",
              "      <td>Does not qualify</td>\n",
              "      <td>64.0</td>\n",
              "      <td>76.0</td>\n",
              "    </tr>\n",
              "    <tr>\n",
              "      <th>3</th>\n",
              "      <td>ANKYI</td>\n",
              "      <td>Urban</td>\n",
              "      <td>Non-public</td>\n",
              "      <td>6OL</td>\n",
              "      <td>Standard</td>\n",
              "      <td>20.0</td>\n",
              "      <td>556O0</td>\n",
              "      <td>Female</td>\n",
              "      <td>Does not qualify</td>\n",
              "      <td>61.0</td>\n",
              "      <td>77.0</td>\n",
              "    </tr>\n",
              "    <tr>\n",
              "      <th>4</th>\n",
              "      <td>ANKYI</td>\n",
              "      <td>Urban</td>\n",
              "      <td>Non-public</td>\n",
              "      <td>6OL</td>\n",
              "      <td>Standard</td>\n",
              "      <td>20.0</td>\n",
              "      <td>74LOE</td>\n",
              "      <td>Male</td>\n",
              "      <td>Does not qualify</td>\n",
              "      <td>64.0</td>\n",
              "      <td>76.0</td>\n",
              "    </tr>\n",
              "  </tbody>\n",
              "</table>\n",
              "</div>"
            ],
            "text/plain": [
              "  school school_setting school_type  ...             lunch pretest  posttest\n",
              "0  ANKYI          Urban  Non-public  ...  Does not qualify    62.0      72.0\n",
              "1  ANKYI          Urban  Non-public  ...  Does not qualify    66.0      79.0\n",
              "2  ANKYI          Urban  Non-public  ...  Does not qualify    64.0      76.0\n",
              "3  ANKYI          Urban  Non-public  ...  Does not qualify    61.0      77.0\n",
              "4  ANKYI          Urban  Non-public  ...  Does not qualify    64.0      76.0\n",
              "\n",
              "[5 rows x 11 columns]"
            ]
          },
          "metadata": {
            "tags": []
          },
          "execution_count": 28
        }
      ]
    },
    {
      "cell_type": "code",
      "metadata": {
        "colab": {
          "base_uri": "https://localhost:8080/"
        },
        "id": "JjdJitB7RdAm",
        "outputId": "bd3c05f7-cc09-4a5d-889c-2bebe97af761"
      },
      "source": [
        "df.groupby(['teaching_method' ] )['pretest'].count()"
      ],
      "execution_count": null,
      "outputs": [
        {
          "output_type": "execute_result",
          "data": {
            "text/plain": [
              "teaching_method\n",
              "Experimental     760\n",
              "Standard        1373\n",
              "Name: pretest, dtype: int64"
            ]
          },
          "metadata": {
            "tags": []
          },
          "execution_count": 29
        }
      ]
    },
    {
      "cell_type": "code",
      "metadata": {
        "colab": {
          "base_uri": "https://localhost:8080/"
        },
        "id": "jTUCfj7cbcY5",
        "outputId": "1e32e522-6b18-4e53-97d5-59ed46556f51"
      },
      "source": [
        "print(\"We can see the average scores of students for different teachniques of teaching \")\n",
        "df.groupby(['teaching_method' ] )['pretest'].mean()"
      ],
      "execution_count": null,
      "outputs": [
        {
          "output_type": "stream",
          "text": [
            "We can see the average scores of students for different teachniques of teaching \n"
          ],
          "name": "stdout"
        },
        {
          "output_type": "execute_result",
          "data": {
            "text/plain": [
              "teaching_method\n",
              "Experimental    57.055263\n",
              "Standard        53.793882\n",
              "Name: pretest, dtype: float64"
            ]
          },
          "metadata": {
            "tags": []
          },
          "execution_count": 30
        }
      ]
    },
    {
      "cell_type": "code",
      "metadata": {
        "colab": {
          "base_uri": "https://localhost:8080/",
          "height": 297
        },
        "id": "dWc80HOou1cL",
        "outputId": "6370bf16-2e19-444a-ea43-fea9c79c46c6"
      },
      "source": [
        "plt.pie([57.055263,53.793882],labels=['Experimental','Standard'],startangle=90, shadow=False, wedgeprops={\"edgecolor\":\"1\",'linewidth': 3, 'antialiased': True},autopct='%1.2f%%')\n",
        "plt.title(\"Avg Marks Of Students in Different School Types\")\n",
        "plt.axis('equal')\n",
        "plt.tight_layout()\n",
        "plt.show() "
      ],
      "execution_count": null,
      "outputs": [
        {
          "output_type": "display_data",
          "data": {
            "image/png": "[encoded data removed]",
            "text/plain": [
              "<Figure size 432x288 with 1 Axes>"
            ]
          },
          "metadata": {
            "tags": []
          }
        }
      ]
    },
    {
      "cell_type": "markdown",
      "metadata": {
        "id": "liHhTEqoK4ZU"
      },
      "source": [
        "Conventional(Standard) methods of teaching have proved to be slightly less impactful on students when compared to the Experimental methods of teaching."
      ]
    },
    {
      "cell_type": "markdown",
      "metadata": {
        "id": "JI3HuHYHhtIy"
      },
      "source": [
        "5. **Classroom** - We have calculated the count, minimum count and average count of students in various classrooms using groupby and average score of them in pretest for each school."
      ]
    },
    {
      "cell_type": "code",
      "metadata": {
        "colab": {
          "base_uri": "https://localhost:8080/",
          "height": 203
        },
        "id": "qqm5K-KtdplX",
        "outputId": "a7249f2d-b96b-455f-8ba9-0aad9ead6bfc"
      },
      "source": [
        "df.head()"
      ],
      "execution_count": null,
      "outputs": [
        {
          "output_type": "execute_result",
          "data": {
            "text/html": [
              "<div>\n",
              "<style scoped>\n",
              "    .dataframe tbody tr th:only-of-type {\n",
              "        vertical-align: middle;\n",
              "    }\n",
              "\n",
              "    .dataframe tbody tr th {\n",
              "        vertical-align: top;\n",
              "    }\n",
              "\n",
              "    .dataframe thead th {\n",
              "        text-align: right;\n",
              "    }\n",
              "</style>\n",
              "<table border=\"1\" class=\"dataframe\">\n",
              "  <thead>\n",
              "    <tr style=\"text-align: right;\">\n",
              "      <th></th>\n",
              "      <th>school</th>\n",
              "      <th>school_setting</th>\n",
              "      <th>school_type</th>\n",
              "      <th>classroom</th>\n",
              "      <th>teaching_method</th>\n",
              "      <th>n_student</th>\n",
              "      <th>student_id</th>\n",
              "      <th>gender</th>\n",
              "      <th>lunch</th>\n",
              "      <th>pretest</th>\n",
              "      <th>posttest</th>\n",
              "    </tr>\n",
              "  </thead>\n",
              "  <tbody>\n",
              "    <tr>\n",
              "      <th>0</th>\n",
              "      <td>ANKYI</td>\n",
              "      <td>Urban</td>\n",
              "      <td>Non-public</td>\n",
              "      <td>6OL</td>\n",
              "      <td>Standard</td>\n",
              "      <td>20.0</td>\n",
              "      <td>2FHT3</td>\n",
              "      <td>Female</td>\n",
              "      <td>Does not qualify</td>\n",
              "      <td>62.0</td>\n",
              "      <td>72.0</td>\n",
              "    </tr>\n",
              "    <tr>\n",
              "      <th>1</th>\n",
              "      <td>ANKYI</td>\n",
              "      <td>Urban</td>\n",
              "      <td>Non-public</td>\n",
              "      <td>6OL</td>\n",
              "      <td>Standard</td>\n",
              "      <td>20.0</td>\n",
              "      <td>3JIVH</td>\n",
              "      <td>Female</td>\n",
              "      <td>Does not qualify</td>\n",
              "      <td>66.0</td>\n",
              "      <td>79.0</td>\n",
              "    </tr>\n",
              "    <tr>\n",
              "      <th>2</th>\n",
              "      <td>ANKYI</td>\n",
              "      <td>Urban</td>\n",
              "      <td>Non-public</td>\n",
              "      <td>6OL</td>\n",
              "      <td>Standard</td>\n",
              "      <td>20.0</td>\n",
              "      <td>3XOWE</td>\n",
              "      <td>Male</td>\n",
              "      <td>Does not qualify</td>\n",
              "      <td>64.0</td>\n",
              "      <td>76.0</td>\n",
              "    </tr>\n",
              "    <tr>\n",
              "      <th>3</th>\n",
              "      <td>ANKYI</td>\n",
              "      <td>Urban</td>\n",
              "      <td>Non-public</td>\n",
              "      <td>6OL</td>\n",
              "      <td>Standard</td>\n",
              "      <td>20.0</td>\n",
              "      <td>556O0</td>\n",
              "      <td>Female</td>\n",
              "      <td>Does not qualify</td>\n",
              "      <td>61.0</td>\n",
              "      <td>77.0</td>\n",
              "    </tr>\n",
              "    <tr>\n",
              "      <th>4</th>\n",
              "      <td>ANKYI</td>\n",
              "      <td>Urban</td>\n",
              "      <td>Non-public</td>\n",
              "      <td>6OL</td>\n",
              "      <td>Standard</td>\n",
              "      <td>20.0</td>\n",
              "      <td>74LOE</td>\n",
              "      <td>Male</td>\n",
              "      <td>Does not qualify</td>\n",
              "      <td>64.0</td>\n",
              "      <td>76.0</td>\n",
              "    </tr>\n",
              "  </tbody>\n",
              "</table>\n",
              "</div>"
            ],
            "text/plain": [
              "  school school_setting school_type  ...             lunch pretest  posttest\n",
              "0  ANKYI          Urban  Non-public  ...  Does not qualify    62.0      72.0\n",
              "1  ANKYI          Urban  Non-public  ...  Does not qualify    66.0      79.0\n",
              "2  ANKYI          Urban  Non-public  ...  Does not qualify    64.0      76.0\n",
              "3  ANKYI          Urban  Non-public  ...  Does not qualify    61.0      77.0\n",
              "4  ANKYI          Urban  Non-public  ...  Does not qualify    64.0      76.0\n",
              "\n",
              "[5 rows x 11 columns]"
            ]
          },
          "metadata": {
            "tags": []
          },
          "execution_count": 32
        }
      ]
    },
    {
      "cell_type": "code",
      "metadata": {
        "colab": {
          "base_uri": "https://localhost:8080/"
        },
        "id": "yI6PaBRwh_Tx",
        "outputId": "4efb2f9c-606a-4df8-a40d-f80e9d5a8a08"
      },
      "source": [
        "df.groupby(['classroom' ] )['n_student'].count()"
      ],
      "execution_count": null,
      "outputs": [
        {
          "output_type": "execute_result",
          "data": {
            "text/plain": [
              "classroom\n",
              "05H    22\n",
              "08N    21\n",
              "0N7    28\n",
              "18K    31\n",
              "197    14\n",
              "       ..\n",
              "YTB    30\n",
              "YUC    21\n",
              "ZBH    30\n",
              "ZDT    27\n",
              "ZNS    21\n",
              "Name: n_student, Length: 97, dtype: int64"
            ]
          },
          "metadata": {
            "tags": []
          },
          "execution_count": 33
        }
      ]
    },
    {
      "cell_type": "code",
      "metadata": {
        "colab": {
          "base_uri": "https://localhost:8080/"
        },
        "id": "Glla_P_djXEB",
        "outputId": "fdaafadb-b262-4143-9316-ba23a7e18baf"
      },
      "source": [
        "df.groupby(['classroom' ] )['n_student'].count().min()"
      ],
      "execution_count": null,
      "outputs": [
        {
          "output_type": "execute_result",
          "data": {
            "text/plain": [
              "14"
            ]
          },
          "metadata": {
            "tags": []
          },
          "execution_count": 34
        }
      ]
    },
    {
      "cell_type": "code",
      "metadata": {
        "colab": {
          "base_uri": "https://localhost:8080/"
        },
        "id": "fbi5yhemjvrO",
        "outputId": "4f071c52-6d46-4ab1-be4d-ce8430ebc6ea"
      },
      "source": [
        "df.groupby(['classroom' ] )['n_student'].count().mean()"
      ],
      "execution_count": null,
      "outputs": [
        {
          "output_type": "execute_result",
          "data": {
            "text/plain": [
              "21.989690721649485"
            ]
          },
          "metadata": {
            "tags": []
          },
          "execution_count": 35
        }
      ]
    },
    {
      "cell_type": "code",
      "metadata": {
        "colab": {
          "base_uri": "https://localhost:8080/"
        },
        "id": "IXwC1QmgjjUI",
        "outputId": "d2755bd0-91ed-4f21-bbe9-dac1233a738f"
      },
      "source": [
        "df.groupby(['classroom' ] )['pretest'].mean()"
      ],
      "execution_count": null,
      "outputs": [
        {
          "output_type": "execute_result",
          "data": {
            "text/plain": [
              "classroom\n",
              "05H    72.954545\n",
              "08N    83.761905\n",
              "0N7    44.107143\n",
              "18K    46.451613\n",
              "197    62.285714\n",
              "         ...    \n",
              "YTB    32.533333\n",
              "YUC    45.857143\n",
              "ZBH    40.466667\n",
              "ZDT    53.703704\n",
              "ZNS    59.285714\n",
              "Name: pretest, Length: 97, dtype: float64"
            ]
          },
          "metadata": {
            "tags": []
          },
          "execution_count": 36
        }
      ]
    },
    {
      "cell_type": "markdown",
      "metadata": {
        "id": "nwh1XBKMhx-O"
      },
      "source": [
        "6. **Gender** - We have calculated the count of male and female students in each school and visualised the same using stacked bar chart."
      ]
    },
    {
      "cell_type": "code",
      "metadata": {
        "colab": {
          "base_uri": "https://localhost:8080/",
          "height": 203
        },
        "id": "JvQf0Uv8joem",
        "outputId": "841b2a94-6145-4e66-9ed2-a9741fd44c91"
      },
      "source": [
        "df.head()"
      ],
      "execution_count": null,
      "outputs": [
        {
          "output_type": "execute_result",
          "data": {
            "text/html": [
              "<div>\n",
              "<style scoped>\n",
              "    .dataframe tbody tr th:only-of-type {\n",
              "        vertical-align: middle;\n",
              "    }\n",
              "\n",
              "    .dataframe tbody tr th {\n",
              "        vertical-align: top;\n",
              "    }\n",
              "\n",
              "    .dataframe thead th {\n",
              "        text-align: right;\n",
              "    }\n",
              "</style>\n",
              "<table border=\"1\" class=\"dataframe\">\n",
              "  <thead>\n",
              "    <tr style=\"text-align: right;\">\n",
              "      <th></th>\n",
              "      <th>school</th>\n",
              "      <th>school_setting</th>\n",
              "      <th>school_type</th>\n",
              "      <th>classroom</th>\n",
              "      <th>teaching_method</th>\n",
              "      <th>n_student</th>\n",
              "      <th>student_id</th>\n",
              "      <th>gender</th>\n",
              "      <th>lunch</th>\n",
              "      <th>pretest</th>\n",
              "      <th>posttest</th>\n",
              "    </tr>\n",
              "  </thead>\n",
              "  <tbody>\n",
              "    <tr>\n",
              "      <th>0</th>\n",
              "      <td>ANKYI</td>\n",
              "      <td>Urban</td>\n",
              "      <td>Non-public</td>\n",
              "      <td>6OL</td>\n",
              "      <td>Standard</td>\n",
              "      <td>20.0</td>\n",
              "      <td>2FHT3</td>\n",
              "      <td>Female</td>\n",
              "      <td>Does not qualify</td>\n",
              "      <td>62.0</td>\n",
              "      <td>72.0</td>\n",
              "    </tr>\n",
              "    <tr>\n",
              "      <th>1</th>\n",
              "      <td>ANKYI</td>\n",
              "      <td>Urban</td>\n",
              "      <td>Non-public</td>\n",
              "      <td>6OL</td>\n",
              "      <td>Standard</td>\n",
              "      <td>20.0</td>\n",
              "      <td>3JIVH</td>\n",
              "      <td>Female</td>\n",
              "      <td>Does not qualify</td>\n",
              "      <td>66.0</td>\n",
              "      <td>79.0</td>\n",
              "    </tr>\n",
              "    <tr>\n",
              "      <th>2</th>\n",
              "      <td>ANKYI</td>\n",
              "      <td>Urban</td>\n",
              "      <td>Non-public</td>\n",
              "      <td>6OL</td>\n",
              "      <td>Standard</td>\n",
              "      <td>20.0</td>\n",
              "      <td>3XOWE</td>\n",
              "      <td>Male</td>\n",
              "      <td>Does not qualify</td>\n",
              "      <td>64.0</td>\n",
              "      <td>76.0</td>\n",
              "    </tr>\n",
              "    <tr>\n",
              "      <th>3</th>\n",
              "      <td>ANKYI</td>\n",
              "      <td>Urban</td>\n",
              "      <td>Non-public</td>\n",
              "      <td>6OL</td>\n",
              "      <td>Standard</td>\n",
              "      <td>20.0</td>\n",
              "      <td>556O0</td>\n",
              "      <td>Female</td>\n",
              "      <td>Does not qualify</td>\n",
              "      <td>61.0</td>\n",
              "      <td>77.0</td>\n",
              "    </tr>\n",
              "    <tr>\n",
              "      <th>4</th>\n",
              "      <td>ANKYI</td>\n",
              "      <td>Urban</td>\n",
              "      <td>Non-public</td>\n",
              "      <td>6OL</td>\n",
              "      <td>Standard</td>\n",
              "      <td>20.0</td>\n",
              "      <td>74LOE</td>\n",
              "      <td>Male</td>\n",
              "      <td>Does not qualify</td>\n",
              "      <td>64.0</td>\n",
              "      <td>76.0</td>\n",
              "    </tr>\n",
              "  </tbody>\n",
              "</table>\n",
              "</div>"
            ],
            "text/plain": [
              "  school school_setting school_type  ...             lunch pretest  posttest\n",
              "0  ANKYI          Urban  Non-public  ...  Does not qualify    62.0      72.0\n",
              "1  ANKYI          Urban  Non-public  ...  Does not qualify    66.0      79.0\n",
              "2  ANKYI          Urban  Non-public  ...  Does not qualify    64.0      76.0\n",
              "3  ANKYI          Urban  Non-public  ...  Does not qualify    61.0      77.0\n",
              "4  ANKYI          Urban  Non-public  ...  Does not qualify    64.0      76.0\n",
              "\n",
              "[5 rows x 11 columns]"
            ]
          },
          "metadata": {
            "tags": []
          },
          "execution_count": 37
        }
      ]
    },
    {
      "cell_type": "code",
      "metadata": {
        "colab": {
          "base_uri": "https://localhost:8080/"
        },
        "id": "04OOHpelkX_r",
        "outputId": "8d071907-b2f3-4b62-b010-f3d91e0c9ac3"
      },
      "source": [
        "df.groupby(['gender' ] )['school'].count()"
      ],
      "execution_count": null,
      "outputs": [
        {
          "output_type": "execute_result",
          "data": {
            "text/plain": [
              "gender\n",
              "Female    1056\n",
              "Male      1077\n",
              "Name: school, dtype: int64"
            ]
          },
          "metadata": {
            "tags": []
          },
          "execution_count": 38
        }
      ]
    },
    {
      "cell_type": "code",
      "metadata": {
        "colab": {
          "base_uri": "https://localhost:8080/"
        },
        "id": "SbUgHVX6k7xz",
        "outputId": "7901b011-4a37-4730-a840-72bffdc3dc72"
      },
      "source": [
        "df.groupby(['gender' ] )['pretest'].mean()"
      ],
      "execution_count": null,
      "outputs": [
        {
          "output_type": "execute_result",
          "data": {
            "text/plain": [
              "gender\n",
              "Female    54.873106\n",
              "Male      55.037140\n",
              "Name: pretest, dtype: float64"
            ]
          },
          "metadata": {
            "tags": []
          },
          "execution_count": 39
        }
      ]
    },
    {
      "cell_type": "code",
      "metadata": {
        "id": "RIH-xXw8h4Be",
        "colab": {
          "base_uri": "https://localhost:8080/",
          "height": 447
        },
        "outputId": "26aad180-09c5-4277-fc8d-33dbaef20e44"
      },
      "source": [
        "data = pd.read_csv(\"/content/test_scores.csv\", index_col =\"gender\")\n",
        "f=data.loc[\"Female\"]\n",
        "m=data.loc[\"Male\"]\n",
        "data"
      ],
      "execution_count": null,
      "outputs": [
        {
          "output_type": "execute_result",
          "data": {
            "text/html": [
              "<div>\n",
              "<style scoped>\n",
              "    .dataframe tbody tr th:only-of-type {\n",
              "        vertical-align: middle;\n",
              "    }\n",
              "\n",
              "    .dataframe tbody tr th {\n",
              "        vertical-align: top;\n",
              "    }\n",
              "\n",
              "    .dataframe thead th {\n",
              "        text-align: right;\n",
              "    }\n",
              "</style>\n",
              "<table border=\"1\" class=\"dataframe\">\n",
              "  <thead>\n",
              "    <tr style=\"text-align: right;\">\n",
              "      <th></th>\n",
              "      <th>school</th>\n",
              "      <th>school_setting</th>\n",
              "      <th>school_type</th>\n",
              "      <th>classroom</th>\n",
              "      <th>teaching_method</th>\n",
              "      <th>n_student</th>\n",
              "      <th>student_id</th>\n",
              "      <th>lunch</th>\n",
              "      <th>pretest</th>\n",
              "      <th>posttest</th>\n",
              "    </tr>\n",
              "    <tr>\n",
              "      <th>gender</th>\n",
              "      <th></th>\n",
              "      <th></th>\n",
              "      <th></th>\n",
              "      <th></th>\n",
              "      <th></th>\n",
              "      <th></th>\n",
              "      <th></th>\n",
              "      <th></th>\n",
              "      <th></th>\n",
              "      <th></th>\n",
              "    </tr>\n",
              "  </thead>\n",
              "  <tbody>\n",
              "    <tr>\n",
              "      <th>Female</th>\n",
              "      <td>ANKYI</td>\n",
              "      <td>Urban</td>\n",
              "      <td>Non-public</td>\n",
              "      <td>6OL</td>\n",
              "      <td>Standard</td>\n",
              "      <td>20.0</td>\n",
              "      <td>2FHT3</td>\n",
              "      <td>Does not qualify</td>\n",
              "      <td>62.0</td>\n",
              "      <td>72.0</td>\n",
              "    </tr>\n",
              "    <tr>\n",
              "      <th>Female</th>\n",
              "      <td>ANKYI</td>\n",
              "      <td>Urban</td>\n",
              "      <td>Non-public</td>\n",
              "      <td>6OL</td>\n",
              "      <td>Standard</td>\n",
              "      <td>20.0</td>\n",
              "      <td>3JIVH</td>\n",
              "      <td>Does not qualify</td>\n",
              "      <td>66.0</td>\n",
              "      <td>79.0</td>\n",
              "    </tr>\n",
              "    <tr>\n",
              "      <th>Male</th>\n",
              "      <td>ANKYI</td>\n",
              "      <td>Urban</td>\n",
              "      <td>Non-public</td>\n",
              "      <td>6OL</td>\n",
              "      <td>Standard</td>\n",
              "      <td>20.0</td>\n",
              "      <td>3XOWE</td>\n",
              "      <td>Does not qualify</td>\n",
              "      <td>64.0</td>\n",
              "      <td>76.0</td>\n",
              "    </tr>\n",
              "    <tr>\n",
              "      <th>Female</th>\n",
              "      <td>ANKYI</td>\n",
              "      <td>Urban</td>\n",
              "      <td>Non-public</td>\n",
              "      <td>6OL</td>\n",
              "      <td>Standard</td>\n",
              "      <td>20.0</td>\n",
              "      <td>556O0</td>\n",
              "      <td>Does not qualify</td>\n",
              "      <td>61.0</td>\n",
              "      <td>77.0</td>\n",
              "    </tr>\n",
              "    <tr>\n",
              "      <th>Male</th>\n",
              "      <td>ANKYI</td>\n",
              "      <td>Urban</td>\n",
              "      <td>Non-public</td>\n",
              "      <td>6OL</td>\n",
              "      <td>Standard</td>\n",
              "      <td>20.0</td>\n",
              "      <td>74LOE</td>\n",
              "      <td>Does not qualify</td>\n",
              "      <td>64.0</td>\n",
              "      <td>76.0</td>\n",
              "    </tr>\n",
              "    <tr>\n",
              "      <th>...</th>\n",
              "      <td>...</td>\n",
              "      <td>...</td>\n",
              "      <td>...</td>\n",
              "      <td>...</td>\n",
              "      <td>...</td>\n",
              "      <td>...</td>\n",
              "      <td>...</td>\n",
              "      <td>...</td>\n",
              "      <td>...</td>\n",
              "      <td>...</td>\n",
              "    </tr>\n",
              "    <tr>\n",
              "      <th>Female</th>\n",
              "      <td>ZOWMK</td>\n",
              "      <td>Urban</td>\n",
              "      <td>Public</td>\n",
              "      <td>ZBH</td>\n",
              "      <td>Standard</td>\n",
              "      <td>30.0</td>\n",
              "      <td>T8LSK</td>\n",
              "      <td>Does not qualify</td>\n",
              "      <td>39.0</td>\n",
              "      <td>55.0</td>\n",
              "    </tr>\n",
              "    <tr>\n",
              "      <th>Female</th>\n",
              "      <td>ZOWMK</td>\n",
              "      <td>Urban</td>\n",
              "      <td>Public</td>\n",
              "      <td>ZBH</td>\n",
              "      <td>Standard</td>\n",
              "      <td>30.0</td>\n",
              "      <td>VNP26</td>\n",
              "      <td>Qualifies for reduced/free lunch</td>\n",
              "      <td>38.0</td>\n",
              "      <td>46.0</td>\n",
              "    </tr>\n",
              "    <tr>\n",
              "      <th>Female</th>\n",
              "      <td>ZOWMK</td>\n",
              "      <td>Urban</td>\n",
              "      <td>Public</td>\n",
              "      <td>ZBH</td>\n",
              "      <td>Standard</td>\n",
              "      <td>30.0</td>\n",
              "      <td>YDR1Z</td>\n",
              "      <td>Qualifies for reduced/free lunch</td>\n",
              "      <td>45.0</td>\n",
              "      <td>51.0</td>\n",
              "    </tr>\n",
              "    <tr>\n",
              "      <th>Male</th>\n",
              "      <td>ZOWMK</td>\n",
              "      <td>Urban</td>\n",
              "      <td>Public</td>\n",
              "      <td>ZBH</td>\n",
              "      <td>Standard</td>\n",
              "      <td>30.0</td>\n",
              "      <td>YUEIH</td>\n",
              "      <td>Qualifies for reduced/free lunch</td>\n",
              "      <td>46.0</td>\n",
              "      <td>53.0</td>\n",
              "    </tr>\n",
              "    <tr>\n",
              "      <th>Male</th>\n",
              "      <td>ZOWMK</td>\n",
              "      <td>Urban</td>\n",
              "      <td>Public</td>\n",
              "      <td>ZBH</td>\n",
              "      <td>Standard</td>\n",
              "      <td>30.0</td>\n",
              "      <td>ZVCQ8</td>\n",
              "      <td>Qualifies for reduced/free lunch</td>\n",
              "      <td>41.0</td>\n",
              "      <td>48.0</td>\n",
              "    </tr>\n",
              "  </tbody>\n",
              "</table>\n",
              "<p>2133 rows × 10 columns</p>\n",
              "</div>"
            ],
            "text/plain": [
              "       school school_setting  ... pretest posttest\n",
              "gender                        ...                 \n",
              "Female  ANKYI          Urban  ...    62.0     72.0\n",
              "Female  ANKYI          Urban  ...    66.0     79.0\n",
              "Male    ANKYI          Urban  ...    64.0     76.0\n",
              "Female  ANKYI          Urban  ...    61.0     77.0\n",
              "Male    ANKYI          Urban  ...    64.0     76.0\n",
              "...       ...            ...  ...     ...      ...\n",
              "Female  ZOWMK          Urban  ...    39.0     55.0\n",
              "Female  ZOWMK          Urban  ...    38.0     46.0\n",
              "Female  ZOWMK          Urban  ...    45.0     51.0\n",
              "Male    ZOWMK          Urban  ...    46.0     53.0\n",
              "Male    ZOWMK          Urban  ...    41.0     48.0\n",
              "\n",
              "[2133 rows x 10 columns]"
            ]
          },
          "metadata": {
            "tags": []
          },
          "execution_count": 40
        }
      ]
    },
    {
      "cell_type": "code",
      "metadata": {
        "id": "bYSo819umf_z",
        "colab": {
          "base_uri": "https://localhost:8080/"
        },
        "outputId": "b8fac2cc-c73c-4242-db1e-982cc735eb64"
      },
      "source": [
        "fem=list(dict(f.groupby(['school'])['school_setting'].count()).values())\n",
        "mal=list(dict(m.groupby(['school'])['school_setting'].count()).values())\n",
        "print(fem)\n",
        "print(mal)"
      ],
      "execution_count": null,
      "outputs": [
        {
          "output_type": "stream",
          "text": [
            "[20, 69, 37, 43, 53, 19, 64, 26, 79, 43, 28, 52, 33, 27, 76, 44, 67, 41, 24, 49, 63, 31, 68]\n",
            "[21, 40, 37, 64, 69, 27, 54, 38, 79, 51, 24, 59, 24, 54, 73, 43, 61, 43, 27, 51, 51, 38, 49]\n"
          ],
          "name": "stdout"
        }
      ]
    },
    {
      "cell_type": "code",
      "metadata": {
        "colab": {
          "base_uri": "https://localhost:8080/",
          "height": 295
        },
        "id": "xCZi0x8ioMgN",
        "outputId": "f36989d1-0c08-4b09-8625-1c4e8feb7e47"
      },
      "source": [
        "# plot bars in stack manner\n",
        "plt.bar(z1, fem,bottom=mal,label='Female',color='lightsalmon')\n",
        "plt.bar(z1, mal,label='male',color='darkturquoise')\n",
        "plt.xticks(rotation='vertical')\n",
        "plt.legend()\n",
        "plt.show()"
      ],
      "execution_count": null,
      "outputs": [
        {
          "output_type": "display_data",
          "data": {
            "image/png": "[encoded data removed]",
            "text/plain": [
              "<Figure size 432x288 with 1 Axes>"
            ]
          },
          "metadata": {
            "tags": [],
            "needs_background": "light"
          }
        }
      ]
    },
    {
      "cell_type": "markdown",
      "metadata": {
        "id": "_na_5_E-M-mb"
      },
      "source": [
        "The graph represents the distribution of girls and boys in every school."
      ]
    },
    {
      "cell_type": "code",
      "metadata": {
        "colab": {
          "base_uri": "https://localhost:8080/",
          "height": 475
        },
        "id": "KGHK5B2Ho92f",
        "outputId": "8f3967d5-58c2-40e7-ccc7-045dea3cb9a9"
      },
      "source": [
        "plt.figure(figsize=(10,7))\n",
        "plt.title('Plot of Post Test Scores vs Pretest Scores')\n",
        "sns.scatterplot(data=df, x='pretest', y='posttest')"
      ],
      "execution_count": null,
      "outputs": [
        {
          "output_type": "execute_result",
          "data": {
            "text/plain": [
              "<matplotlib.axes._subplots.AxesSubplot at 0x7fd1e1b52e50>"
            ]
          },
          "metadata": {
            "tags": []
          },
          "execution_count": 70
        },
        {
          "output_type": "display_data",
          "data": {
            "image/png": "[encoded data removed]",
            "text/plain": [
              "<Figure size 720x504 with 1 Axes>"
            ]
          },
          "metadata": {
            "tags": [],
            "needs_background": "light"
          }
        }
      ]
    },
    {
      "cell_type": "markdown",
      "metadata": {
        "id": "3SsZylNbkSGr"
      },
      "source": [
        "The scatterplot shows  the relationship between the pretest and posttest scores, we can see that they have a positive correlation . "
      ]
    },
    {
      "cell_type": "code",
      "metadata": {
        "colab": {
          "base_uri": "https://localhost:8080/",
          "height": 350
        },
        "id": "QkWifCiuOhML",
        "outputId": "ee0022f6-ce5b-4737-b04b-6893fa9ef552"
      },
      "source": [
        "plt.figure(figsize=(10,5))\n",
        "sns.kdeplot(data=df['pretest'], shade=True, label='Pre-test')\n",
        "sns.kdeplot(data=df['posttest'], shade=True, label='Post-test')\n",
        "plt.title('Distribution of Pre Test and Post Test')\n",
        "plt.legend()\n",
        "plt.show()"
      ],
      "execution_count": null,
      "outputs": [
        {
          "output_type": "display_data",
          "data": {
            "image/png": "[encoded data removed]",
            "text/plain": [
              "<Figure size 720x360 with 1 Axes>"
            ]
          },
          "metadata": {
            "tags": [],
            "needs_background": "light"
          }
        }
      ]
    },
    {
      "cell_type": "markdown",
      "metadata": {
        "id": "KGAkkxFPlm9V"
      },
      "source": [
        "The pretest and the posttest scores seem to be similar and positively correlated, as the density graph shifts to the right. The scores of students tend to increase in the posttest."
      ]
    },
    {
      "cell_type": "code",
      "metadata": {
        "colab": {
          "base_uri": "https://localhost:8080/"
        },
        "id": "p8qv0YrvGryI",
        "outputId": "7332cbb4-08db-4dbc-bdb0-228a3b59b724"
      },
      "source": [
        "print( \"variance of pretest: \",df['pretest'].var())\n",
        "print(\"variance of posttest: \",df['posttest'].var())\n",
        "print(\"standard deviation of pretest scores: \",df['pretest'].std())\n",
        "print(\"standard deviation of posttest scores: \",df['posttest'].std())\n",
        "print(\"mean of pretest: \",df['pretest'].mean())\n",
        "print(\"mean of posttest: \",df['posttest'].mean())"
      ],
      "execution_count": null,
      "outputs": [
        {
          "output_type": "stream",
          "text": [
            "variance of pretest:  183.9577192672281\n",
            "variance of posttest:  195.6302624970427\n",
            "standard deviation of pretest scores:  13.563101388223421\n",
            "standard deviation of posttest scores:  13.98678885581114\n",
            "mean of pretest:  54.95593061415846\n",
            "mean of posttest:  67.10220346929208\n"
          ],
          "name": "stdout"
        }
      ]
    },
    {
      "cell_type": "code",
      "metadata": {
        "colab": {
          "base_uri": "https://localhost:8080/",
          "height": 323
        },
        "id": "0CdN0sOnNnrr",
        "outputId": "0991bfc1-4759-45b5-bdb9-5256adc82bb9"
      },
      "source": [
        "fig , ax= plt.subplots(1, 2, figsize=(10, 5))\n",
        "sns.boxplot( y='pretest', data=df, ax=ax[0])\n",
        "sns.boxplot( y='posttest', data=df, ax=ax[1])"
      ],
      "execution_count": null,
      "outputs": [
        {
          "output_type": "execute_result",
          "data": {
            "text/plain": [
              "<matplotlib.axes._subplots.AxesSubplot at 0x7fd1de76c550>"
            ]
          },
          "metadata": {
            "tags": []
          },
          "execution_count": 46
        },
        {
          "output_type": "display_data",
          "data": {
            "image/png": "[encoded data removed]",
            "text/plain": [
              "<Figure size 720x360 with 2 Axes>"
            ]
          },
          "metadata": {
            "tags": [],
            "needs_background": "light"
          }
        }
      ]
    },
    {
      "cell_type": "markdown",
      "metadata": {
        "id": "l3jiXWJcrIHA"
      },
      "source": [
        "We can see that the scores of the posttest are comparitively higher than the pretest.\n"
      ]
    },
    {
      "cell_type": "markdown",
      "metadata": {
        "id": "d2D4bV9rp4UW"
      },
      "source": [
        "\n",
        "\n",
        "---\n",
        "\n",
        "\n",
        "\n"
      ]
    },
    {
      "cell_type": "markdown",
      "metadata": {
        "id": "rldleHd6l8Px"
      },
      "source": [
        "##Model"
      ]
    },
    {
      "cell_type": "markdown",
      "metadata": {
        "id": "KL53-6DmmEE1"
      },
      "source": [
        "We have used linear regression model to predict the posttest scores of students using the pretest scores. We use **scikitlearn** package for building and training the model.\n",
        "\n",
        "*   **from sklearn.model_selection import train_test_split**: train_test_split is used to split the data for training and testing by partitioning the dataset in required proportions.\n",
        "\n",
        "*   **mean_absolute_error , mean_sqaured_Error**: mean_absolute_error and mean_squared_error are used to evaluate the performance of our model. The lesser the error the better our model performs .\n",
        "\n",
        "*   **from sklearn.linear_model import LinearRegression**: We have imported the linear regression model from sklearn to predict the posttest scores using the pretest scores.\n",
        "\n",
        "*   **from sklearn.metrics import r2_score**: r2_score (coefficient of determination) is a regression score function. The performance of the model is the best if the r2_Score is 1. The closer it is to 1, the better it performs. The value can be negative, if the model performs arbitrarily worse.  \n",
        "\n",
        "\n",
        "\n",
        "\n",
        "\n"
      ]
    },
    {
      "cell_type": "code",
      "metadata": {
        "id": "nfvfWB4CO2ty"
      },
      "source": [
        "from sklearn.model_selection import train_test_split\n",
        "from sklearn.metrics import mean_absolute_error\n",
        "from sklearn.metrics import mean_squared_error\n",
        "from sklearn.linear_model import LinearRegression\n",
        "from sklearn.metrics import r2_score"
      ],
      "execution_count": null,
      "outputs": []
    },
    {
      "cell_type": "code",
      "metadata": {
        "id": "TGEsH2jS0w0n"
      },
      "source": [
        "# Prepare for model building\n",
        "\n",
        "# Utility function for evaluating model performance\n",
        "def eval(y, y_hat):\n",
        "    MAE = mean_absolute_error(y, y_hat)\n",
        "    MSE = mean_squared_error(y, y_hat)\n",
        "    r2 = r2_score(y, y_hat)\n",
        "    print(f'Mean Abs Error: {MAE:.2f}\\nMean Square Error: {MSE:.2f}\\nR^2 Score: {r2:.2f}')\n",
        "    return (MAE, MSE, r2)\n",
        "\n",
        "x = df[['pretest', 'n_student', 'school_setting', 'school_type', 'teaching_method', 'lunch']]\n",
        "y = df[['posttest']]\n",
        "\n",
        "# Encode categorical data\n",
        "x = pd.get_dummies(x)"
      ],
      "execution_count": null,
      "outputs": []
    },
    {
      "cell_type": "markdown",
      "metadata": {
        "id": "fgP0fddQu-L7"
      },
      "source": [
        "The target variable and the other input variables have been separated.\n",
        "\n",
        "**pd.get_dummies(x):** The pd.get_dummies(x) converts categorical variable into dummy/indicator variables.\n",
        "\n",
        "\n",
        "The eval() function is a utility function for evaluating model performance. It takes input as posttest actual value and posttest predicted value and evaluates how the model performs. It returns the MAE(Mean Absolute Error), MSE(Mean Squared Error) and r2_score. \n"
      ]
    },
    {
      "cell_type": "code",
      "metadata": {
        "colab": {
          "base_uri": "https://localhost:8080/",
          "height": 487
        },
        "id": "zMNfY05ru4vU",
        "outputId": "a9d01187-b38d-4b04-f719-7169261c4c08"
      },
      "source": [
        "x"
      ],
      "execution_count": null,
      "outputs": [
        {
          "output_type": "execute_result",
          "data": {
            "text/html": [
              "<div>\n",
              "<style scoped>\n",
              "    .dataframe tbody tr th:only-of-type {\n",
              "        vertical-align: middle;\n",
              "    }\n",
              "\n",
              "    .dataframe tbody tr th {\n",
              "        vertical-align: top;\n",
              "    }\n",
              "\n",
              "    .dataframe thead th {\n",
              "        text-align: right;\n",
              "    }\n",
              "</style>\n",
              "<table border=\"1\" class=\"dataframe\">\n",
              "  <thead>\n",
              "    <tr style=\"text-align: right;\">\n",
              "      <th></th>\n",
              "      <th>pretest</th>\n",
              "      <th>n_student</th>\n",
              "      <th>school_setting_Rural</th>\n",
              "      <th>school_setting_Suburban</th>\n",
              "      <th>school_setting_Urban</th>\n",
              "      <th>school_type_Non-public</th>\n",
              "      <th>school_type_Public</th>\n",
              "      <th>teaching_method_Experimental</th>\n",
              "      <th>teaching_method_Standard</th>\n",
              "      <th>lunch_Does not qualify</th>\n",
              "      <th>lunch_Qualifies for reduced/free lunch</th>\n",
              "    </tr>\n",
              "  </thead>\n",
              "  <tbody>\n",
              "    <tr>\n",
              "      <th>0</th>\n",
              "      <td>62.0</td>\n",
              "      <td>20.0</td>\n",
              "      <td>0</td>\n",
              "      <td>0</td>\n",
              "      <td>1</td>\n",
              "      <td>1</td>\n",
              "      <td>0</td>\n",
              "      <td>0</td>\n",
              "      <td>1</td>\n",
              "      <td>1</td>\n",
              "      <td>0</td>\n",
              "    </tr>\n",
              "    <tr>\n",
              "      <th>1</th>\n",
              "      <td>66.0</td>\n",
              "      <td>20.0</td>\n",
              "      <td>0</td>\n",
              "      <td>0</td>\n",
              "      <td>1</td>\n",
              "      <td>1</td>\n",
              "      <td>0</td>\n",
              "      <td>0</td>\n",
              "      <td>1</td>\n",
              "      <td>1</td>\n",
              "      <td>0</td>\n",
              "    </tr>\n",
              "    <tr>\n",
              "      <th>2</th>\n",
              "      <td>64.0</td>\n",
              "      <td>20.0</td>\n",
              "      <td>0</td>\n",
              "      <td>0</td>\n",
              "      <td>1</td>\n",
              "      <td>1</td>\n",
              "      <td>0</td>\n",
              "      <td>0</td>\n",
              "      <td>1</td>\n",
              "      <td>1</td>\n",
              "      <td>0</td>\n",
              "    </tr>\n",
              "    <tr>\n",
              "      <th>3</th>\n",
              "      <td>61.0</td>\n",
              "      <td>20.0</td>\n",
              "      <td>0</td>\n",
              "      <td>0</td>\n",
              "      <td>1</td>\n",
              "      <td>1</td>\n",
              "      <td>0</td>\n",
              "      <td>0</td>\n",
              "      <td>1</td>\n",
              "      <td>1</td>\n",
              "      <td>0</td>\n",
              "    </tr>\n",
              "    <tr>\n",
              "      <th>4</th>\n",
              "      <td>64.0</td>\n",
              "      <td>20.0</td>\n",
              "      <td>0</td>\n",
              "      <td>0</td>\n",
              "      <td>1</td>\n",
              "      <td>1</td>\n",
              "      <td>0</td>\n",
              "      <td>0</td>\n",
              "      <td>1</td>\n",
              "      <td>1</td>\n",
              "      <td>0</td>\n",
              "    </tr>\n",
              "    <tr>\n",
              "      <th>...</th>\n",
              "      <td>...</td>\n",
              "      <td>...</td>\n",
              "      <td>...</td>\n",
              "      <td>...</td>\n",
              "      <td>...</td>\n",
              "      <td>...</td>\n",
              "      <td>...</td>\n",
              "      <td>...</td>\n",
              "      <td>...</td>\n",
              "      <td>...</td>\n",
              "      <td>...</td>\n",
              "    </tr>\n",
              "    <tr>\n",
              "      <th>2128</th>\n",
              "      <td>39.0</td>\n",
              "      <td>30.0</td>\n",
              "      <td>0</td>\n",
              "      <td>0</td>\n",
              "      <td>1</td>\n",
              "      <td>0</td>\n",
              "      <td>1</td>\n",
              "      <td>0</td>\n",
              "      <td>1</td>\n",
              "      <td>1</td>\n",
              "      <td>0</td>\n",
              "    </tr>\n",
              "    <tr>\n",
              "      <th>2129</th>\n",
              "      <td>38.0</td>\n",
              "      <td>30.0</td>\n",
              "      <td>0</td>\n",
              "      <td>0</td>\n",
              "      <td>1</td>\n",
              "      <td>0</td>\n",
              "      <td>1</td>\n",
              "      <td>0</td>\n",
              "      <td>1</td>\n",
              "      <td>0</td>\n",
              "      <td>1</td>\n",
              "    </tr>\n",
              "    <tr>\n",
              "      <th>2130</th>\n",
              "      <td>45.0</td>\n",
              "      <td>30.0</td>\n",
              "      <td>0</td>\n",
              "      <td>0</td>\n",
              "      <td>1</td>\n",
              "      <td>0</td>\n",
              "      <td>1</td>\n",
              "      <td>0</td>\n",
              "      <td>1</td>\n",
              "      <td>0</td>\n",
              "      <td>1</td>\n",
              "    </tr>\n",
              "    <tr>\n",
              "      <th>2131</th>\n",
              "      <td>46.0</td>\n",
              "      <td>30.0</td>\n",
              "      <td>0</td>\n",
              "      <td>0</td>\n",
              "      <td>1</td>\n",
              "      <td>0</td>\n",
              "      <td>1</td>\n",
              "      <td>0</td>\n",
              "      <td>1</td>\n",
              "      <td>0</td>\n",
              "      <td>1</td>\n",
              "    </tr>\n",
              "    <tr>\n",
              "      <th>2132</th>\n",
              "      <td>41.0</td>\n",
              "      <td>30.0</td>\n",
              "      <td>0</td>\n",
              "      <td>0</td>\n",
              "      <td>1</td>\n",
              "      <td>0</td>\n",
              "      <td>1</td>\n",
              "      <td>0</td>\n",
              "      <td>1</td>\n",
              "      <td>0</td>\n",
              "      <td>1</td>\n",
              "    </tr>\n",
              "  </tbody>\n",
              "</table>\n",
              "<p>2133 rows × 11 columns</p>\n",
              "</div>"
            ],
            "text/plain": [
              "      pretest  ...  lunch_Qualifies for reduced/free lunch\n",
              "0        62.0  ...                                       0\n",
              "1        66.0  ...                                       0\n",
              "2        64.0  ...                                       0\n",
              "3        61.0  ...                                       0\n",
              "4        64.0  ...                                       0\n",
              "...       ...  ...                                     ...\n",
              "2128     39.0  ...                                       0\n",
              "2129     38.0  ...                                       1\n",
              "2130     45.0  ...                                       1\n",
              "2131     46.0  ...                                       1\n",
              "2132     41.0  ...                                       1\n",
              "\n",
              "[2133 rows x 11 columns]"
            ]
          },
          "metadata": {
            "tags": []
          },
          "execution_count": 49
        }
      ]
    },
    {
      "cell_type": "markdown",
      "metadata": {
        "id": "Uwx37CoF9RJm"
      },
      "source": [
        "The data is divided into x_train, x_test, y_train, y_test using the train_test_split. We have used a test size of 0.4, that is 40% of the entire data would be the test data and rest 60% would be used as training data. The random state is set to 0.\n",
        "The model is called and then fit using the .fit() method by passing x_train and y_train as parameters. Finally the model is evaluated by passing the actual and predicted values of y_test into the eval() function."
      ]
    },
    {
      "cell_type": "code",
      "metadata": {
        "colab": {
          "base_uri": "https://localhost:8080/"
        },
        "id": "yh2PpiY903nO",
        "outputId": "3f5a61ec-e52e-44fd-8b85-2bb80d9ec867"
      },
      "source": [
        "x_simple = x[['pretest']]\n",
        "\n",
        "x_train, x_test, y_train, y_test = train_test_split(x_simple, y, test_size = 0.4, random_state = 0)\n",
        "model_linear = LinearRegression()\n",
        "\n",
        "model_linear.fit(x_train, y_train)\n",
        "y_predict = model_linear.predict(x_test)\n",
        "\n",
        "eval(y_test, y_predict)\n"
      ],
      "execution_count": null,
      "outputs": [
        {
          "output_type": "stream",
          "text": [
            "Mean Abs Error: 3.52\n",
            "Mean Square Error: 18.96\n",
            "R^2 Score: 0.90\n"
          ],
          "name": "stdout"
        },
        {
          "output_type": "execute_result",
          "data": {
            "text/plain": [
              "(3.5207456822490104, 18.963575264769727, 0.9031614408613375)"
            ]
          },
          "metadata": {
            "tags": []
          },
          "execution_count": 72
        }
      ]
    },
    {
      "cell_type": "markdown",
      "metadata": {
        "id": "9vzSlgHZuyMk"
      },
      "source": [
        "We can see that we have obtained MAE as 3.52, MSE as 18.96 and R^2 Score is 0.9031. Our model performs slightly well considering the scores obtained."
      ]
    },
    {
      "cell_type": "code",
      "metadata": {
        "colab": {
          "base_uri": "https://localhost:8080/"
        },
        "id": "8GBIRK6v070p",
        "outputId": "be7a383f-8397-40a9-936e-559cf55be4dc"
      },
      "source": [
        "model_linear.predict([[60]])"
      ],
      "execution_count": null,
      "outputs": [
        {
          "output_type": "execute_result",
          "data": {
            "text/plain": [
              "array([[72.13431239]])"
            ]
          },
          "metadata": {
            "tags": []
          },
          "execution_count": 73
        }
      ]
    },
    {
      "cell_type": "markdown",
      "metadata": {
        "id": "bSpu4wXbBbdU"
      },
      "source": [
        "Here we have tested our model by giving  an pretest score of 60 and the posttest score obtained by the model is 72"
      ]
    }
  ]
}